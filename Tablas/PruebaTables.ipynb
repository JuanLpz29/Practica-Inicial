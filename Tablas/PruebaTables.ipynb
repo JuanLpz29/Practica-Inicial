{
 "cells": [
  {
   "cell_type": "code",
   "execution_count": 1,
   "id": "65da4374",
   "metadata": {},
   "outputs": [],
   "source": [
    "#Importar clases del módulo Tables\n",
    "from Tables import *"
   ]
  },
  {
   "cell_type": "code",
   "execution_count": 2,
   "id": "4b77d45e",
   "metadata": {},
   "outputs": [],
   "source": [
    "size = 30"
   ]
  },
  {
   "cell_type": "code",
   "execution_count": 3,
   "id": "718316c1",
   "metadata": {},
   "outputs": [],
   "source": [
    "#Diccionario de conceptos claves y sus apariciones\n",
    "dic = {'Provincia de osorno' : '18', 'Seremi de agricultura' : '13', 'Provincia de llanquihue' : '12', 'Olimpiadas de actualidad' : '11', \n",
    "    'Millones de pesos' : '11', 'Meteorológica de chile' : '8', 'Efectos del cambio' : '8', 'Cantidad de agua' : '8', \n",
    "    'Parques de la patagonia' : '7', 'Fin de semana' : '7', 'Municipalidad de puerto' : '7', 'Austral de chile' : '7', \n",
    "    'Superintendencia deservicios' : '7', 'Productores de leche' : '7', 'Proyectos de agua' : '7', 'Sur de chile' : '7', \n",
    "    'Sur del país' : '7', 'Nacional de leche' : '6', 'Producción de leche' : '6', 'Seremi de salud' : '6'}"
   ]
  },
  {
   "cell_type": "code",
   "execution_count": 4,
   "id": "2304bc74",
   "metadata": {},
   "outputs": [
    {
     "name": "stdout",
     "output_type": "stream",
     "text": [
      "10.0\n"
     ]
    }
   ],
   "source": [
    "if size > (len(dic)/2):\n",
    "    size = (len(dic)/2)\n",
    "print(size)"
   ]
  },
  {
   "cell_type": "code",
   "execution_count": 5,
   "id": "1737d7c3",
   "metadata": {},
   "outputs": [],
   "source": [
    "#Creación del documento PDF\n",
    "doc = SimpleDocTemplate(\"testClass.pdf\", pagesize = A4)\n",
    "story=[]"
   ]
  },
  {
   "cell_type": "code",
   "execution_count": 6,
   "id": "bcb93f72",
   "metadata": {},
   "outputs": [],
   "source": [
    "#Creación de objeto tabla conceptos claves"
   ]
  },
  {
   "cell_type": "code",
   "execution_count": 8,
   "id": "cb9b9119",
   "metadata": {},
   "outputs": [],
   "source": [
    "#Creación de objeto tabla conceptos claves\n",
    "table1 = TableKeyConcepts(dic, 16)\n",
    "#Cambia el tipo de data de diccionario (dic) a lista, del tamaño indicado (16)\n",
    "story.append(table1.createTable())"
   ]
  },
  {
   "cell_type": "code",
   "execution_count": 9,
   "id": "3d9cbb85",
   "metadata": {},
   "outputs": [
    {
     "data": {
      "text/plain": [
       "16"
      ]
     },
     "execution_count": 9,
     "metadata": {},
     "output_type": "execute_result"
    }
   ],
   "source": [
    "table1.size"
   ]
  },
  {
   "cell_type": "code",
   "execution_count": 14,
   "id": "e6f1702c",
   "metadata": {},
   "outputs": [
    {
     "data": {
      "text/plain": [
       "{'Provincia de osorno': '18',\n",
       " 'Seremi de agricultura': '13',\n",
       " 'Provincia de llanquihue': '12',\n",
       " 'Olimpiadas de actualidad': '11',\n",
       " 'Millones de pesos': '11',\n",
       " 'Meteorológica de chile': '8',\n",
       " 'Efectos del cambio': '8',\n",
       " 'Cantidad de agua': '8',\n",
       " 'Parques de la patagonia': '7',\n",
       " 'Fin de semana': '7',\n",
       " 'Municipalidad de puerto': '7',\n",
       " 'Austral de chile': '7',\n",
       " 'Superintendencia deservicios': '7',\n",
       " 'Productores de leche': '7',\n",
       " 'Proyectos de agua': '7',\n",
       " 'Sur de chile': '7',\n",
       " 'Sur del país': '7',\n",
       " 'Nacional de leche': '6',\n",
       " 'Producción de leche': '6',\n",
       " 'Seremi de salud': '6'}"
      ]
     },
     "execution_count": 14,
     "metadata": {},
     "output_type": "execute_result"
    }
   ],
   "source": [
    "table1.data"
   ]
  },
  {
   "cell_type": "code",
   "execution_count": 15,
   "id": "cf638bd7",
   "metadata": {},
   "outputs": [
    {
     "data": {
      "text/plain": [
       "[('GRID', (0, 0), (-1, -1), 0.5, Color(.501961,.501961,.501961,1)),\n",
       " ('BOX', (0, 0), (-1, -1), 2, Color(0,0,0,1)),\n",
       " ('BACKGROUND', (0, 0), (-1, 0), Color(1,.752941,.796078,1))]"
      ]
     },
     "execution_count": 15,
     "metadata": {},
     "output_type": "execute_result"
    }
   ],
   "source": [
    "table1.style"
   ]
  },
  {
   "cell_type": "code",
   "execution_count": 10,
   "id": "cc1f49e0",
   "metadata": {},
   "outputs": [],
   "source": [
    "#Creación de objeto tabla conceptos claves\n",
    "table2 = TableKeyConcepts(dic, 6)\n",
    "story.append(table2.createTable())"
   ]
  },
  {
   "cell_type": "code",
   "execution_count": 12,
   "id": "b15fdbc2",
   "metadata": {},
   "outputs": [],
   "source": [
    "#Creación de objeto tabla conceptos claves\n",
    "table3 = TableKeyConcepts(dic, 50)\n",
    "story.append(table3.createTable())"
   ]
  },
  {
   "cell_type": "code",
   "execution_count": 13,
   "id": "a67323c5",
   "metadata": {},
   "outputs": [],
   "source": [
    "#Genera PDF con tabla concepto claves\n",
    "doc.build(story)"
   ]
  },
  {
   "cell_type": "code",
   "execution_count": null,
   "id": "8592b2e9",
   "metadata": {},
   "outputs": [],
   "source": []
  }
 ],
 "metadata": {
  "kernelspec": {
   "display_name": "Python 3 (ipykernel)",
   "language": "python",
   "name": "python3"
  },
  "language_info": {
   "codemirror_mode": {
    "name": "ipython",
    "version": 3
   },
   "file_extension": ".py",
   "mimetype": "text/x-python",
   "name": "python",
   "nbconvert_exporter": "python",
   "pygments_lexer": "ipython3",
   "version": "3.8.10"
  }
 },
 "nbformat": 4,
 "nbformat_minor": 5
}
