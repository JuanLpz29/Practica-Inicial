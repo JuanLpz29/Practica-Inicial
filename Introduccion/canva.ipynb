{
 "cells": [
  {
   "cell_type": "code",
   "execution_count": 1,
   "metadata": {},
   "outputs": [],
   "source": [
    "from ctypes import alignment\n",
    "from matplotlib.pyplot import text\n",
    "from reportlab.pdfgen import canvas\n",
    "from reportlab.lib.pagesizes import A4\n",
    "from reportlab.pdfbase import pdfmetrics\n",
    "from reportlab.pdfbase.ttfonts import TTFont\n",
    "from reportlab.platypus import Paragraph\n",
    "from reportlab.lib.styles import ParagraphStyle\n"
   ]
  },
  {
   "cell_type": "code",
   "execution_count": 2,
   "metadata": {},
   "outputs": [],
   "source": [
    "class introduction:\n",
    "\n",
    "    def __init__(self, name):\n",
    "        if not \".pdf\" in name:\n",
    "            name += \".pdf\"\n",
    "\n",
    "        self.parrafos = []\n",
    "        self.styleParrafos = {}\n",
    "        self.width, self.height = A4\n",
    "        self.logos = []\n",
    "        self.leading = \"sencillo\" #interlineado\n",
    "        self.canva = canvas.Canvas(name, pagesize = A4) \n",
    "        \n",
    "    def verificarXY(self, x,y):\n",
    "        class error (Exception):\n",
    "            pass\n",
    "        class fueraRangoW(error):\n",
    "            pass\n",
    "        class fueraRangoH(error):\n",
    "            pass\n",
    "        try:\n",
    "            if (x < 0 or x > self.width):\n",
    "                raise fueraRangoW\n",
    "            if (y < 0 or y > self.height):\n",
    "                raise fueraRangoH    \n",
    "        except fueraRangoW:\n",
    "            raise ValueError(\"No puede ser menos o mas que width\")\n",
    "        except fueraRangoH:\n",
    "            raise ValueError(\"No puede ser menos o mas que width\")\n",
    "\n",
    "    def getSize(self):\n",
    "        return self.width, self.height\n",
    "\n",
    "    def setName(self, name):\n",
    "        self.name = name\n",
    "        \n",
    "    def getName(self):\n",
    "        return self.name\n",
    "\n",
    "    def addLogos(self, nameFile,  x, y, widthImage, heightImage):\n",
    "        self.verificarXY(x,y)\n",
    "        self.logos.append([nameFile, x, y, widthImage, heightImage])\n",
    "        return self.canva\n",
    "\n",
    "    def deleteLogo(self): #Elimina el último logo agregado\n",
    "        delete = self.logos.pop()\n",
    "        print(\"logo {}, eliminado\".format(delete[0]))\n",
    "\n",
    "    def addParagraph(self, text, nameStyle, x,y):\n",
    "        self.verificarXY(x,y)\n",
    "        p1 = Paragraph ('''{}\n",
    "        '''.format(text), self.styleParrafos[nameStyle])\n",
    "        self.parrafos.append([p1, x,y])\n",
    "\n",
    "    def deleteParagraph(self):\n",
    "        self.parrafos.pop()\n",
    "    \n",
    "    def mostrarParagraph(self):\n",
    "        for text, x,y in self.parrafos:\n",
    "            #print(\"({},{}) = {}\".format(x,y,text.text))\n",
    "            print(text.text)\n",
    "\n",
    "    def addStyleParagraph(self,name, fontName, fontSize, leading, leftIndent ):\n",
    "        style = ParagraphStyle(name,\n",
    "        fontName = fontName, #tipo de letra\n",
    "        fontSize = fontSize, #tamaño de letra\n",
    "        leading = leading, #interlineado\n",
    "        leftIndent = leftIndent)\n",
    "        self.styleParrafos[name] = style\n",
    "        \n",
    "\n",
    "    def build(self):\n",
    "        for nameFile, x, y, widthImage, heightImage in self.logos:\n",
    "            self.canva.drawImage(nameFile, x, y, width = widthImage, height =  heightImage, mask = \"auto\")\n",
    "        for p1, x, y in self.parrafos:\n",
    "            p1.wrapOn(self.canva,470,50)\n",
    "            p1.drawOn(self.canva, x,y)\n",
    "\n",
    "        print(\"Informe listo\")\n",
    "        self.canva.save()\n"
   ]
  },
  {
   "cell_type": "code",
   "execution_count": 3,
   "metadata": {},
   "outputs": [
    {
     "name": "stdout",
     "output_type": "stream",
     "text": [
      "Informe listo\n"
     ]
    }
   ],
   "source": [
    "c = introduction(\"Introduccion.pdf\")\n",
    "\n",
    "pdfmetrics.registerFont(TTFont('GillSans', 'gillsans.ttf'))\n",
    "pdfmetrics.registerFont(TTFont('GillSansBold', 'gillsansBold.ttf'))\n",
    "\n",
    "width , height = c.getSize()\n",
    "c.addLogos(nameFile = 'logo_gore_horizontal.png',   x = 10, y = height -60, widthImage = 140, heightImage = 50)\n",
    "c.addLogos(nameFile = 'logo_sophia2.png',   x = width-150, y = height -60, widthImage = 140, heightImage = 50)\n",
    "c.addStyleParagraph(name = \"p1\", fontName = 'GillSans', fontSize = 12, leading = 15, leftIndent = 5 )\n",
    "\n",
    "c.addStyleParagraph(name = \"subtitulo\", fontName= 'GillSansBold', fontSize= 27, leading = 15, leftIndent = 5 )\n",
    "c.addParagraph(\"I. Introduccion\",\"subtitulo\",63,750)\n",
    "c.addParagraph(\"Percepción mediática de los problemas territoriales\", \"p1\", 155,height-50)\n",
    "\n",
    "c.addParagraph('Los informes de \"Percepción mediática de las problemáticas territoriales\" proponen una síntesis periódica de las problemáticas identificadas y emergentes del territorio a través del análisis automatizada de los medios de prensa regionales. Estos informes tienen tres ventajas para acompañar el equipo del gobierno regional en este trabajo:', \"p1\",  width-532, height-200)\n",
    "\n",
    "textoP2 = [\"1. Optimizan el tiempo del equipo entregando un resumen operativo de las problemáticas territoriales en el periodo,\",\"2. Refuerzan el conocimiento del equipo destancando problemáticas emergentes aún no identificadas,\",\"3. Son flexibles. El equipo puede definir la periodicidad del informe e identificar problemáticas territoriales específicas que monitorear.\"]\n",
    "num = 0\n",
    "for i in textoP2:\n",
    "    c.addParagraph(i, \"p1\", width - 532 , height - 240-num)\n",
    "    num+= 40\n",
    "c.addParagraph(\"El presente informe de demostración ilustra la estructura del informe. En primer lugar, se detalla cuál es la metodología para elaborar el informe. Luego, por cada problemática territorial identificada se propone un conjunto de indicadores que resumen los conceptos claves y noticias claves de la problemática, a qué comunas corresponde esta problemática y cómo evoluciona en el tiempo.\", \"p1\", width - 532, height - 400)\n",
    "\n",
    "c.build()"
   ]
  },
  {
   "cell_type": "code",
   "execution_count": null,
   "metadata": {},
   "outputs": [],
   "source": [
    "c.mostrarParagraph()"
   ]
  }
 ],
 "metadata": {
  "interpreter": {
   "hash": "916dbcbb3f70747c44a77c7bcd40155683ae19c65e1c03b4aa3499c5328201f1"
  },
  "kernelspec": {
   "display_name": "Python 3.8.10 64-bit",
   "language": "python",
   "name": "python3"
  },
  "language_info": {
   "codemirror_mode": {
    "name": "ipython",
    "version": 3
   },
   "file_extension": ".py",
   "mimetype": "text/x-python",
   "name": "python",
   "nbconvert_exporter": "python",
   "pygments_lexer": "ipython3",
   "version": "3.8.10"
  },
  "orig_nbformat": 4
 },
 "nbformat": 4,
 "nbformat_minor": 2
}
